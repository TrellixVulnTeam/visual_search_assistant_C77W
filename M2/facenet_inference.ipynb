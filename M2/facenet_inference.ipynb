{
 "cells": [
  {
   "cell_type": "code",
   "execution_count": 1,
   "metadata": {},
   "outputs": [],
   "source": [
    "## Face detection and recognition using facenet-pytorch library\n",
    "import cv2\n",
    "import numpy as np\n",
    "import pandas as pd\n",
    "import os\n",
    "from tqdm import tqdm\n",
    "from PIL import Image\n",
    "from facenet_pytorch import MTCNN, InceptionResnetV1"
   ]
  },
  {
   "cell_type": "code",
   "execution_count": 2,
   "metadata": {},
   "outputs": [
    {
     "name": "stdout",
     "output_type": "stream",
     "text": [
      "Running on device: cuda:0\n"
     ]
    }
   ],
   "source": [
    "import torch\n",
    "from torch.utils.data import DataLoader\n",
    "from torchvision import datasets\n",
    "import torchvision.transforms as transforms\n",
    "\n",
    "from torch.utils.data import Dataset, DataLoader\n",
    "\n",
    "workers = 0 if os.name == 'nt' else 4\n",
    "\n",
    "device = torch.device('cuda:0' if torch.cuda.is_available() else 'cpu')\n",
    "print('Running on device: {}'.format(device))"
   ]
  },
  {
   "cell_type": "markdown",
   "metadata": {},
   "source": [
    "## Define Models"
   ]
  },
  {
   "cell_type": "code",
   "execution_count": 64,
   "metadata": {},
   "outputs": [],
   "source": [
    "mtcnn = MTCNN(\n",
    "    image_size=160, margin=30, min_face_size=20,\n",
    "    thresholds=[0.6, 0.7, 0.7], factor=0.709, post_process=True,\n",
    "    device=device\n",
    ")\n",
    "\n",
    "resnet = InceptionResnetV1(pretrained='vggface2',num_classes=1004,classify=True).eval().to(device)"
   ]
  },
  {
   "cell_type": "code",
   "execution_count": 65,
   "metadata": {},
   "outputs": [
    {
     "data": {
      "text/plain": [
       "<All keys matched successfully>"
      ]
     },
     "execution_count": 65,
     "metadata": {},
     "output_type": "execute_result"
    }
   ],
   "source": [
    "resnet.load_state_dict(torch.load('finetuned_youtube_dataset_noscheduler.pth'))"
   ]
  },
  {
   "cell_type": "code",
   "execution_count": 66,
   "metadata": {},
   "outputs": [],
   "source": [
    "# constants\n",
    "batch_size = 32"
   ]
  },
  {
   "cell_type": "code",
   "execution_count": 67,
   "metadata": {},
   "outputs": [],
   "source": [
    "\n",
    "\n",
    "class FaceLibraryDataset(Dataset):\n",
    "    def __init__(self,root,transform=None):\n",
    "        self.root = root\n",
    "        self.transform=transform\n",
    "        self.file_names = [f for f in os.listdir(root) if self._know_ext(f)]\n",
    "        self.images = []\n",
    "\n",
    "    def _know_ext(self,fname):\n",
    "        ext = fname.split('.')[-1]\n",
    "\n",
    "        if ext == 'jpeg' or ext=='png' or ext=='PNG' or ext=='jpg':\n",
    "            return True\n",
    "        else:\n",
    "            return False\n",
    "\n",
    "    def __len__(self):\n",
    "        return len(self.file_names)\n",
    "\n",
    "    def __getitem__(self,idx):\n",
    "        fname = self.file_names[idx]\n",
    "        img = Image.open(os.path.join(self.root,fname)).convert('RGB').resize((160,160))\n",
    "        # import pdb;pdb.set_trace()\n",
    "        return transforms.ToTensor()(img),fname.split('.')[0]\n",
    "\n",
    "\n",
    "        \n",
    "\n",
    "class FaceLibrary:\n",
    "    def __init__(self,root,detector,feature_extractor,device):\n",
    "        # FaceLibrary().__init__()\n",
    "        self.root = root\n",
    "        # self.dataloader = dataloader\n",
    "        self.detector = detector\n",
    "        self.feature_extractor = feature_extractor\n",
    "        \n",
    "        self.face_crops = []\n",
    "        self.face_embeddings = []\n",
    "        self.face_names = []\n",
    "\n",
    "        self.device = device\n",
    "\n",
    "        # self._detect_faces()\n",
    "        self._extract_embeddings()\n",
    "        print(\"initiated\")\n",
    "    \n",
    "    def _detect_faces(self):\n",
    "        \n",
    "        for idx,(x,name) in enumerate(self.dataloader):\n",
    "            x = x.to(self.device)\n",
    "            faces = self.detector(x)\n",
    "\n",
    "            self.face_crops.append(faces)\n",
    "            # self.face_names.append(name)\n",
    "        \n",
    "        import pdb;pdb.set_trace()\n",
    "\n",
    "\n",
    "    def _extract_embeddings(self):\n",
    "        \n",
    "        # import pdb;pdb.set_trace()\n",
    "        # for cropped in self.face_crops:\n",
    "        #     embd  = self.feature_extractor(cropped)\n",
    "        #     self.face_embeddings.append(embd)\n",
    "\n",
    "        # import pdb;pdb.set_trace()\n",
    "        images = os.listdir(self.root)\n",
    "        face_images = []\n",
    "        for face_img in images:\n",
    "            name,ext = face_img.split('.')\n",
    "            if ext != 'jpg' and ext!='PNG' and ext!='png' and ext!='jpeg':\n",
    "                print('[Skip] Unknown extension for %s' % name)\n",
    "            else:\n",
    "                # print(\"[%s] processed\" % name)\n",
    "                self.face_names.append(name)\n",
    "                img = Image.open(os.path.join(self.root,face_img)).convert('RGB')\n",
    "                \n",
    "                cropped = self.detector(img)\n",
    "                face_images.append(cropped.unsqueeze(dim=0))\n",
    "                # TODO: load face image\n",
    "                face_images.append(transforms.ToTensor()(Image.open(os.path.join(self.root,face_img)).convert('RGB').resize((160,160))).unsqueeze(dim=0))\n",
    "                print('Added %s to embedding list' % name)\n",
    "        \n",
    "        faces = torch.cat(face_images).to(self.device) #face_images.stack(face_images).to(self.device)\n",
    "    \n",
    "        self.face_embeddings = self.feature_extractor(faces)\n",
    "        print('Done Processing all faces in library')\n",
    "    \n",
    "    def find_closest_match(self,face,return_all=False):\n",
    "        face_embd = self.feature_extractor(face)\n",
    "        dists = []\n",
    "        best_dist = None\n",
    "        best_name = None\n",
    "        for name,embd in zip(self.face_names,self.face_embeddings):\n",
    "            # import pdb;pdb.set_trace()\n",
    "            dist = (face_embd-embd).norm().item()\n",
    "            dists.append(dist)\n",
    "            if best_dist is None or dist<best_dist:\n",
    "                best_name = name\n",
    "                best_dist = dist\n",
    "\n",
    "        if return_all:\n",
    "            return best_name,best_dist,dists\n",
    "        else:\n",
    "            return best_name,best_dist\n",
    "\n",
    "                "
   ]
  },
  {
   "cell_type": "code",
   "execution_count": 68,
   "metadata": {},
   "outputs": [
    {
     "name": "stdout",
     "output_type": "stream",
     "text": [
      "Added Brian_Cox to embedding list\n",
      "Added Quincy_Isaiah to embedding list\n",
      "Added Samuel_L_Jackson to embedding list\n",
      "Added Tom_Hiddleston to embedding list\n",
      "Added lacey_rose to embedding list\n",
      "Added Michael_Keaton to embedding list\n",
      "Added oscar_issac to embedding list\n",
      "Done Processing all faces in library\n",
      "initiated\n"
     ]
    }
   ],
   "source": [
    "# face_lib_dataset = FaceLibraryDataset(root='/home/spock-the-wizard/cmu/project/library')\n",
    "# face_lib_dataloader = DataLoader(face_lib_dataset,batch_size=16,shuffle=False)\n",
    "face_lib = FaceLibrary(root='/home/ubuntu/visual_search_assistant/demo_library/demo_library_US',detector=mtcnn,feature_extractor=resnet,device=device)"
   ]
  },
  {
   "cell_type": "code",
   "execution_count": 69,
   "metadata": {},
   "outputs": [
    {
     "data": {
      "image/png": "[encoded data removed]",
      "text/plain": [
       "<PIL.Image.Image image mode=RGB size=160x160 at 0x7F3F5056FDD8>"
      ]
     },
     "metadata": {},
     "output_type": "display_data"
    },
    {
     "data": {
      "text/plain": [
       "('Tom_Hiddleston',\n",
       " 87.09638214111328,\n",
       " [94.23546600341797,\n",
       "  90.1461410522461,\n",
       "  103.04442596435547,\n",
       "  87.09638214111328,\n",
       "  98.4913558959961,\n",
       "  99.7940444946289,\n",
       "  108.83578491210938])"
      ]
     },
     "execution_count": 69,
     "metadata": {},
     "output_type": "execute_result"
    }
   ],
   "source": [
    "# Test with sample image of tom cruise\n",
    "# transforms.ToTensor()(Image.open(os.path.join(self.root,face_img)).resize((160,160))).unsqueeze(dim=0)\n",
    "test_face = Image.open('/home/ubuntu/visual_search_assistant/demo_library/demo_library_US/oscar_issac.jpeg').convert('RGB').resize((160,160))\n",
    "display(test_face)\n",
    "test_face = transforms.ToTensor()(test_face).unsqueeze(dim=0).to(device)\n",
    "# print(test_face.shape)\n",
    "face_lib.find_closest_match(test_face,return_all=True)"
   ]
  },
  {
   "cell_type": "code",
   "execution_count": 70,
   "metadata": {},
   "outputs": [],
   "source": [
    "def write_out_video(cap,frames,bboxes,names=None):\n",
    "    # print(len(frames),len(bboxes),len(names))\n",
    "    for frame,bbox,name in zip(frames,bboxes,names):\n",
    "        frame = np.asarray(frame)\n",
    "        frame=cv2.cvtColor(frame, cv2.COLOR_RGB2BGR) \n",
    "        if bbox is not None:\n",
    "            left,bottom,right,top = bbox[0] #(top,bottom,right,left) = bbox[0]\n",
    "            top = int(top)\n",
    "            bottom = int(bottom)\n",
    "            right = int(right)\n",
    "            left = int(left)\n",
    "            # Draw a box around the face\n",
    "            cv2.rectangle(frame, (left, top), (right, bottom), (0, 0, 255), 2)\n",
    "            # Draw a label with a name below the face\n",
    "            cv2.rectangle(frame, (left, bottom - 35), (right, bottom), (0, 0, 255), cv2.FILLED)\n",
    "            if name is not None:\n",
    "                # write text                \n",
    "                font = cv2.FONT_HERSHEY_DUPLEX\n",
    "                cv2.putText(frame, name, (left + 6, bottom - 6), font, 1.0, (255, 255, 255), 1)\n",
    "        cap.write(frame)\n",
    "\n",
    "    "
   ]
  },
  {
   "cell_type": "code",
   "execution_count": 71,
   "metadata": {},
   "outputs": [],
   "source": [
    "def write_single_face(frame,box,name):\n",
    "    \"\"\"frame: cv2 image\"\"\"\n",
    "    \n",
    "    left,bottom,right,top = box\n",
    "    # draw bbox\n",
    "    cv2.rectangle(frame, (left, top), (right, bottom), (0, 0, 255), 2)\n",
    "            # Draw a label with a name below the face\n",
    "    cv2.rectangle(frame, (left, bottom - 35), (right, bottom), (0, 0, 255), cv2.FILLED)\n",
    "    font = cv2.FONT_HERSHEY_DUPLEX\n",
    "    cv2.putText(frame, name, (left + 6, bottom - 6), font, 1.0, (255, 255, 255), 1)\n",
    "    \n",
    "    return frame"
   ]
  },
  {
   "cell_type": "code",
   "execution_count": 72,
   "metadata": {},
   "outputs": [
    {
     "name": "stderr",
     "output_type": "stream",
     "text": [
      "100%|██████████| 696/696 [00:55<00:00, 12.47it/s]\n"
     ]
    }
   ],
   "source": [
    "video_pth = '/home/ubuntu/visual_search_assistant/demo_video/demo_US_clip.mp4'\n",
    "video = cv2.VideoCapture(video_pth)\n",
    "total_frames = int(video.get(cv2.CAP_PROP_FRAME_COUNT))\n",
    "frame_width = int(video.get(3))\n",
    "frame_height = int(video.get(4))\n",
    "\n",
    "output_video_pth = '/home/ubuntu/visual_search_assistant/demo_video/result_US.mp4'\n",
    "out_video = cv2.VideoWriter(output_video_pth,cv2.VideoWriter_fourcc('m', 'p', '4', 'v'), 25, (frame_width,frame_height))\n",
    "frames = []\n",
    "skip_frame = False\n",
    "for i in tqdm(range(total_frames)):\n",
    "    success,frame = video.read()\n",
    "\n",
    "    if not success or i==1000:\n",
    "        print('Done Processing after %d frames' % i)\n",
    "        break\n",
    "    skip_frame = not skip_frame\n",
    "    if not skip_frame:\n",
    "        \n",
    "        frame = cv2.cvtColor(frame, cv2.COLOR_BGR2RGB)\n",
    "        frame = Image.fromarray(frame)\n",
    "        frames.append(frame)\n",
    "        if i% 100 == 0:\n",
    "            print('Frame count %d' % i)\n",
    "        if len(frames)==batch_size:\n",
    "            batched_boxes,batched_probs = mtcnn.detect(frames)\n",
    "            for fr,boxes,probs in zip(frames,batched_boxes,batched_probs):\n",
    "                \n",
    "                # convert to cv2 image\n",
    "                frame = np.asarray(fr)\n",
    "                frame=cv2.cvtColor(frame, cv2.COLOR_RGB2BGR) \n",
    "\n",
    "                if boxes is not None:\n",
    "                    for box,prob in zip(boxes,probs):\n",
    "                        box = box.astype(np.int32)\n",
    "                        left,bottom,top,right = box\n",
    "                        \n",
    "                        new_width = (right-left)*1.0\n",
    "                        new_height = (top-bottom)*1.0\n",
    "                        center = (left+right)/2,(top+bottom)/2\n",
    "                        \n",
    "                        new_left = center[0] - new_width/2\n",
    "                        new_right = center[0] + new_width/2\n",
    "                        new_top = center[1] + new_height/2\n",
    "                        new_bottom = center[1] - new_height/2\n",
    "                        new_box = np.array([new_left, new_bottom, new_top, new_right]).astype(np.int32)\n",
    "                        \n",
    "                        cropped = fr.crop((new_left,new_bottom,new_top,new_right))\n",
    "                        cropped.save('img/'+str(prob)[2:]+'.jpg')\n",
    "#                         raise NotImplementedError\n",
    "                        face = transforms.ToTensor()(cropped.resize((160,160))).unsqueeze(dim=0).to(device)\n",
    "                        name,dist = face_lib.find_closest_match(face)\n",
    "                        frame = write_single_face(frame,new_box,name)\n",
    "                \n",
    "                out_video.write(frame)\n",
    "            frames = []\n",
    "\n",
    "    \n",
    "video.release()\n",
    "out_video.release()\n"
   ]
  }
 ],
 "metadata": {
  "kernelspec": {
   "display_name": "Python 3",
   "language": "python",
   "name": "python3"
  },
  "language_info": {
   "codemirror_mode": {
    "name": "ipython",
    "version": 3
   },
   "file_extension": ".py",
   "mimetype": "text/x-python",
   "name": "python",
   "nbconvert_exporter": "python",
   "pygments_lexer": "ipython3",
   "version": "3.6.15"
  },
  "vscode": {
   "interpreter": {
    "hash": "f702d0735f99070e62267becda595f209456be5fed0661f2d304c27df7822cc3"
   }
  }
 },
 "nbformat": 4,
 "nbformat_minor": 2
}
