{
 "cells": [
  {
   "cell_type": "markdown",
   "metadata": {
    "id": "3opGFbBLdzGi"
   },
   "source": [
    "#### <b>Load Dataset</b>"
   ]
  },
  {
   "cell_type": "code",
   "execution_count": 2,
   "metadata": {
    "id": "kNDdBv8z1teG",
    "vscode": {
     "languageId": "python"
    }
   },
   "outputs": [],
   "source": [
    "%%download\n",
    "!gdown https://drive.google.com/uc?id=<share_id>\n",
    "\n",
    "%%capture\n",
    "!rm -rf ./Youtube-face-DB\n",
    "!unzip Youtube_identity_dataset.tar.gz"
   ]
  },
  {
   "cell_type": "markdown",
   "metadata": {
    "id": "p_4UTUJAL_t7"
   },
   "source": [
    "#### <b>Generate Facial Identity Recognition Dataset</b>"
   ]
  },
  {
   "cell_type": "code",
   "execution_count": null,
   "metadata": {
    "colab": {
     "base_uri": "https://localhost:8080/"
    },
    "id": "U17_Cso7RB0D",
    "outputId": "7f825776-30e4-4cdf-92fe-1c3e65d6b8ab",
    "vscode": {
     "languageId": "python"
    }
   },
   "outputs": [
    {
     "ename": "",
     "evalue": "",
     "output_type": "error",
     "traceback": [
      "\u001b[1;31mThe kernel died. View Jupyter <a href='command:jupyter.viewOutput'>log</a> for further details. \n",
      "Error: /usr/bin/python: No module named ipykernel_launcher..."
     ]
    }
   ],
   "source": [
    "identities = {}\n",
    "\n",
    "with open('./Youtube-face-DB-identity.txt') as f:\n",
    "    lines = f.readlines()\n",
    "    for line in lines:\n",
    "        file_name, identity = line.strip().split()\n",
    "        identities[file_name] = identity\n",
    "\n",
    "print(f'There are {len(set(identities.values()))} identities.')\n",
    "print(f'There are {len(identities.keys())} images.')"
   ]
  },
  {
   "cell_type": "code",
   "execution_count": 5,
   "metadata": {
    "colab": {
     "base_uri": "https://localhost:8080/"
    },
    "id": "ulW7t-MsMm-C",
    "outputId": "377502dc-36cc-4b29-c06b-b6ab9ad4739f",
    "vscode": {
     "languageId": "python"
    }
   },
   "outputs": [
    {
     "name": "stdout",
     "output_type": "stream",
     "text": [
      "There are 307 identities that have more than 15 images.\n",
      "There are 4263 train images.\n",
      "There are 1215 test images.\n"
     ]
    }
   ],
   "source": [
    "folder_root = './Youtube_identity_dataset/'\n",
    "folder_list = os.listdir(folder_root)\n",
    "\n",
    "threshold = 15\n",
    "identity_cnt = 0\n",
    "\n",
    "train_images = 0\n",
    "test_images = 0\n",
    "train_ratio = 0.8\n",
    "\n",
    "for folder in folder_list:\n",
    "    file_list = os.path.join(folder_root, folder)\n",
    "    file_list = os.listdir(file_list)\n",
    "    if len(file_list) >= threshold:\n",
    "        identity_cnt += 1\n",
    "        num_train = int(train_ratio * len(file_list))\n",
    "        for file in file_list[:num_train]:\n",
    "            train_images += 1\n",
    "            source = os.path.join(folder_root, folder, file)\n",
    "            target = os.path.join(folder_root, 'train', folder, file)\n",
    "            if not os.path.exists(os.path.join(folder_root, 'train', folder)):\n",
    "                os.makedirs(os.path.join(folder_root, 'train', folder))\n",
    "            os.rename(source, target)\n",
    "        for file in file_list[num_train:]:\n",
    "            test_images += 1\n",
    "            source = os.path.join(folder_root, folder, file)\n",
    "            target = os.path.join(folder_root, 'test', folder, file)\n",
    "            if not os.path.exists(os.path.join(folder_root, 'test', folder)):\n",
    "                os.makedirs(os.path.join(folder_root, 'test', folder))\n",
    "            os.rename(source, target)\n",
    "\n",
    "print(f'There are {identity_cnt} identities that have more than {threshold} images.')\n",
    "print(f'There are {train_images} train images.')\n",
    "print(f'There are {test_images} test images.')"
   ]
  },
  {
   "cell_type": "code",
   "execution_count": 6,
   "metadata": {
    "id": "l-2w3kSzYEcq",
    "vscode": {
     "languageId": "python"
    }
   },
   "outputs": [],
   "source": [
    "!mkdir -p ./facial_identity_dataset/train\n",
    "!mkdir -p ./facial_identity_dataset/test\n",
    "os.rename('./Youtube_identity_dataset/train', './facial_identity_dataset/train')\n",
    "os.rename('./Youtube_identity_dataset/test', './facial_identity_dataset/test')"
   ]
  },
  {
   "cell_type": "markdown",
   "metadata": {
    "id": "EEF-bLZieN3k"
   },
   "source": [
    "#### <b>Save Processed Dataset</b>"
   ]
  },
  {
   "cell_type": "code",
   "execution_count": 9,
   "metadata": {
    "id": "4AJbOdjZd4Qq",
    "vscode": {
     "languageId": "python"
    }
   },
   "outputs": [],
   "source": [
    "%%capture\n",
    "!zip -r facial_identity_dataset.zip ./facial_identity_dataset/"
   ]
  }
 ],
 "metadata": {
  "colab": {
   "authorship_tag": "ABX9TyMy8G3IL+8++WTZ/K7SQBqo",
   "collapsed_sections": [],
   "name": "CelebAMask HQ Dataset Processing",
   "provenance": []
  },
  "kernelspec": {
   "display_name": "Python 3",
   "language": "python",
   "name": "python3"
  }
 },
 "nbformat": 4,
 "nbformat_minor": 1
}
