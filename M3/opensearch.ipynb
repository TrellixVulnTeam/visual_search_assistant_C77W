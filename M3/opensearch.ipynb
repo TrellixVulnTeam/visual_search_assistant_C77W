{
 "cells": [
  {
   "cell_type": "code",
   "execution_count": 5,
   "id": "eef845c4",
   "metadata": {},
   "outputs": [
    {
     "name": "stdout",
     "output_type": "stream",
     "text": [
      "/bin/bash: switchml: line 1: syntax error: unexpected end of file\n",
      "/bin/bash: error importing function definition for `switchml'\n",
      "/bin/bash: _moduleraw: line 1: syntax error: unexpected end of file\n",
      "/bin/bash: error importing function definition for `_moduleraw'\n",
      "Looking in indexes: https://pypi.org/simple, https://pip.repos.neuron.amazonaws.com\n",
      "Requirement already satisfied: requests-aws4auth in /home/ubuntu/anaconda3/envs/vsa/lib/python3.7/site-packages (1.1.2)\n",
      "Requirement already satisfied: six in /home/ubuntu/.local/lib/python3.7/site-packages (from requests-aws4auth) (1.16.0)\n",
      "Requirement already satisfied: requests in /home/ubuntu/anaconda3/envs/vsa/lib/python3.7/site-packages (from requests-aws4auth) (2.28.0)\n",
      "Requirement already satisfied: idna<4,>=2.5 in /home/ubuntu/anaconda3/envs/vsa/lib/python3.7/site-packages (from requests->requests-aws4auth) (3.3)\n",
      "Requirement already satisfied: certifi>=2017.4.17 in /home/ubuntu/anaconda3/envs/vsa/lib/python3.7/site-packages (from requests->requests-aws4auth) (2022.6.15)\n",
      "Requirement already satisfied: urllib3<1.27,>=1.21.1 in /home/ubuntu/.local/lib/python3.7/site-packages (from requests->requests-aws4auth) (1.26.9)\n",
      "Requirement already satisfied: charset-normalizer~=2.0.0 in /home/ubuntu/anaconda3/envs/vsa/lib/python3.7/site-packages (from requests->requests-aws4auth) (2.0.12)\n"
     ]
    }
   ],
   "source": [
    "# !pip install python-dotenv\n",
    "!pip install requests-aws4auth"
   ]
  },
  {
   "cell_type": "code",
   "execution_count": 73,
   "id": "b02139cd",
   "metadata": {},
   "outputs": [],
   "source": [
    "def search_term(field:str,value:str,client,index_name):\n",
    "    query_body = {\"query\":{\"match\":{field:value}}}\n",
    "    resp = client.search(index=index_name,body=query_body)\n",
    "    return resp"
   ]
  },
  {
   "cell_type": "code",
   "execution_count": 66,
   "id": "ad1a3282",
   "metadata": {},
   "outputs": [],
   "source": [
    "from opensearchpy import OpenSearch, RequestsHttpConnection, AWSV4SignerAuth\n",
    "from requests_aws4auth import AWS4Auth\n",
    "import boto3\n",
    "\n",
    "host = 'search-face-and-action-y6b5mzj5mupvipkof4pdaqlidy.us-east-2.es.amazonaws.com' # cluster endpoint, for example: my-test-domain.us-east-1.es.amazonaws.com\n",
    "region = 'us-east-2'\n",
    "port = 443\n",
    "\n",
    "auth = ('master', '@Master1234')\n",
    "\n",
    "# Create the client with SSL/TLS enabled, but hostname verification disabled.\n",
    "client = OpenSearch(\n",
    "    hosts = [{'host': host,'port':port}],\n",
    "#     http_compress = True, # enables gzip compression for request bodies\n",
    "    http_auth = auth,\n",
    "    use_ssl = True,\n",
    "    verify_certs = True,\n",
    "    connection_class = RequestsHttpConnection\n",
    ")"
   ]
  },
  {
   "cell_type": "code",
   "execution_count": 82,
   "id": "b8c271e2",
   "metadata": {},
   "outputs": [
    {
     "data": {
      "text/plain": [
       "[{'_index': 'faces',\n",
       "  '_type': '_doc',\n",
       "  '_id': 'Tom Skerrittmp456F',\n",
       "  '_score': 0.40043223,\n",
       "  '_source': {'name': 'Tom Skerritt',\n",
       "   'frame': 56,\n",
       "   'video': 'mp4',\n",
       "   'type': 'F'}},\n",
       " {'_index': 'faces',\n",
       "  '_type': '_doc',\n",
       "  '_id': 'Tom Skerrittmp467F',\n",
       "  '_score': 0.40043223,\n",
       "  '_source': {'name': 'Tom Skerritt',\n",
       "   'frame': 67,\n",
       "   'video': 'mp4',\n",
       "   'type': 'F'}},\n",
       " {'_index': 'faces',\n",
       "  '_type': '_doc',\n",
       "  '_id': 'Tom Skerrittmp478F',\n",
       "  '_score': 0.40043223,\n",
       "  '_source': {'name': 'Tom Skerritt',\n",
       "   'frame': 78,\n",
       "   'video': 'mp4',\n",
       "   'type': 'F'}},\n",
       " {'_index': 'faces',\n",
       "  '_type': '_doc',\n",
       "  '_id': 'Tom Skerrittmp489F',\n",
       "  '_score': 0.40043223,\n",
       "  '_source': {'name': 'Tom Skerritt',\n",
       "   'frame': 89,\n",
       "   'video': 'mp4',\n",
       "   'type': 'F'}},\n",
       " {'_index': 'faces',\n",
       "  '_type': '_doc',\n",
       "  '_id': 'Tom Skerrittmp493F',\n",
       "  '_score': 0.40043223,\n",
       "  '_source': {'name': 'Tom Skerritt',\n",
       "   'frame': 93,\n",
       "   'video': 'mp4',\n",
       "   'type': 'F'}},\n",
       " {'_index': 'faces',\n",
       "  '_type': '_doc',\n",
       "  '_id': 'Tom Skerrittmp498F',\n",
       "  '_score': 0.40043223,\n",
       "  '_source': {'name': 'Tom Skerritt',\n",
       "   'frame': 98,\n",
       "   'video': 'mp4',\n",
       "   'type': 'F'}},\n",
       " {'_index': 'faces',\n",
       "  '_type': '_doc',\n",
       "  '_id': 'Tom Skerrittmp4100F',\n",
       "  '_score': 0.40043223,\n",
       "  '_source': {'name': 'Tom Skerritt',\n",
       "   'frame': 100,\n",
       "   'video': 'mp4',\n",
       "   'type': 'F'}},\n",
       " {'_index': 'faces',\n",
       "  '_type': '_doc',\n",
       "  '_id': 'Tom Skerrittmp4104F',\n",
       "  '_score': 0.40043223,\n",
       "  '_source': {'name': 'Tom Skerritt',\n",
       "   'frame': 104,\n",
       "   'video': 'mp4',\n",
       "   'type': 'F'}},\n",
       " {'_index': 'faces',\n",
       "  '_type': '_doc',\n",
       "  '_id': 'Tom SkerrittShortTC-TG.mp440F',\n",
       "  '_score': 0.40043223,\n",
       "  '_source': {'name': 'Tom Skerritt',\n",
       "   'frame': 40,\n",
       "   'video': 'ShortTC-TG.mp4',\n",
       "   'type': 'F'}},\n",
       " {'_index': 'faces',\n",
       "  '_type': '_doc',\n",
       "  '_id': 'Tom SkerrittShortTC-TG.mp456F',\n",
       "  '_score': 0.40043223,\n",
       "  '_source': {'name': 'Tom Skerritt',\n",
       "   'frame': 56,\n",
       "   'video': 'ShortTC-TG.mp4',\n",
       "   'type': 'F'}}]"
      ]
     },
     "execution_count": 82,
     "metadata": {},
     "output_type": "execute_result"
    }
   ],
   "source": [
    "INDEX_NAME = 'faces'\n",
    "field = \"name\"\n",
    "operator=\"or\"\n",
    "query=\"Tom\"\n",
    "query_body = {\"query\": {\"match\": {\"name\":\"Tom\"}}}\n",
    "# resp = client.search(index=INDEX_NAME, body=query_body)\n",
    "\n",
    "resp = search_term(\"name\",\"Tom Skerritt\",client,INDEX_NAME)\n",
    "resp['hits']['hits']"
   ]
  }
 ],
 "metadata": {
  "kernelspec": {
   "display_name": "Environment (conda_vsa)",
   "language": "python",
   "name": "conda_vsa"
  },
  "language_info": {
   "codemirror_mode": {
    "name": "ipython",
    "version": 3
   },
   "file_extension": ".py",
   "mimetype": "text/x-python",
   "name": "python",
   "nbconvert_exporter": "python",
   "pygments_lexer": "ipython3",
   "version": "3.7.12"
  }
 },
 "nbformat": 4,
 "nbformat_minor": 5
}
