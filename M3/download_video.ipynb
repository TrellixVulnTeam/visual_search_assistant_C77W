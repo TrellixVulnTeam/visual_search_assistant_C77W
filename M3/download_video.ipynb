{
 "cells": [
  {
   "cell_type": "markdown",
   "id": "86c4341d",
   "metadata": {},
   "source": [
    "## Download Test Videos\n",
    "Functions to download youtube video from link and clip them "
   ]
  },
  {
   "cell_type": "code",
   "execution_count": null,
   "id": "3bcaa752",
   "metadata": {},
   "outputs": [],
   "source": [
    "# Basic constants\n",
    "\n",
    "OUTPUT_DIR = '/home/ubuntu/visual_search_assistant/M3/results'\n",
    "FACE_LIB_DIR = '/home/ubuntu/visual_search_assistant/M3/library/'\n",
    "DATA_DIR = '/home/ubuntu/visual_search_assistant/data'\n",
    "SAMPLE_FRAME_FREQ = 2\n",
    "SAMPLE_CLUSTER_FREQ = 20\n",
    "LOG_FREQ = 50\n",
    "\n",
    "batch_size = 128"
   ]
  },
  {
   "cell_type": "code",
   "execution_count": null,
   "id": "0009d516",
   "metadata": {},
   "outputs": [],
   "source": [
    "from pytube import YouTube \n",
    "from moviepy.editor import *\n",
    "\n",
    "def download_video(link,output_path,output_title=None):\n",
    "    yt = YouTube(link)\n",
    "    video_stream = yt.streams.first()\n",
    "    video_stream.download(output_path=output_path,filename=output_title)\n",
    "    print('Download complete for %s' % video_stream.title)\n",
    "    return video_stream.title\n",
    "\n",
    "\n",
    "def clip_video(video_pth,output_pth,time):\n",
    "    \"\"\"\n",
    "    video_pth: /path/to/input/video\n",
    "    output_pth: /path/to/output/video\n",
    "    time: list of start and end time in seconds to clip video\n",
    "    \"\"\"\n",
    "\n",
    "    start,end=time\n",
    "    clip = VideoFileClip(video_pth).subclip(start,end)\n",
    "    if output_pth is None:\n",
    "        name = video_pth.split('/')[-1].split('.')[0]\n",
    "        new_name = name + '_%d_%d'%(start,end)\n",
    "        output_pth = video_pth.replace(name,new_name)\n",
    "        \n",
    "    #import pdb; pdb.set_trace()\n",
    "    clip.write_videofile(output_pth)\n",
    "        "
   ]
  },
  {
   "cell_type": "markdown",
   "id": "b9820f61",
   "metadata": {},
   "source": [
    "Specify the link and download"
   ]
  },
  {
   "cell_type": "code",
   "execution_count": null,
   "id": "696949fc",
   "metadata": {},
   "outputs": [],
   "source": [
    "download_link = 'https://www.youtube.com/watch?v=oHddkxW5IqU'\n",
    "download_link = 'https://www.youtube.com/watch?v=X4uo7uKR61M'\n",
    "fname = 'radio_star_.mp4'\n",
    "fname = 'parks_and_rec_.mp4'\n",
    "\n",
    "output_pth = os.path.join(DATA_DIR,fname)\n",
    "if not os.path.exists(output_pth):\n",
    "    download_video(download_link,DATA_DIR,fname)"
   ]
  },
  {
   "cell_type": "code",
   "execution_count": null,
   "id": "0fc57d05",
   "metadata": {},
   "outputs": [],
   "source": [
    "from IPython.core.display import Video\n",
    "Video('/home/ubuntu/visual_search_assistant/data/Donna Wakes Up Everyday And Chooses Being Cool  Parks and Recreation.mp4')"
   ]
  }
 ],
 "metadata": {
  "kernelspec": {
   "display_name": "Environment (conda_vsa)",
   "language": "python",
   "name": "conda_vsa"
  },
  "language_info": {
   "codemirror_mode": {
    "name": "ipython",
    "version": 3
   },
   "file_extension": ".py",
   "mimetype": "text/x-python",
   "name": "python",
   "nbconvert_exporter": "python",
   "pygments_lexer": "ipython3",
   "version": "3.6.15"
  }
 },
 "nbformat": 4,
 "nbformat_minor": 5
}
