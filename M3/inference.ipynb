{
 "cells": [
  {
   "cell_type": "code",
   "execution_count": 1,
   "id": "35a56e6c",
   "metadata": {},
   "outputs": [],
   "source": [
    "# Basic constants\n",
    "\n",
    "OUTPUT_DIR = '/home/ubuntu/visual_search_assistant/M3/results'\n",
    "FACE_LIB_DIR = '/home/ubuntu/visual_search_assistant/M3/library/'\n",
    "DATA_DIR = '/home/ubuntu/visual_search_assistant/data'\n",
    "SAMPLE_FRAME_FREQ = 2\n",
    "LOG_FREQ = 50\n",
    "\n",
    "batch_size = 128\n",
    "\n",
    "input_video = None\n",
    "output_video = None\n"
   ]
  },
  {
   "cell_type": "markdown",
   "id": "25ac96d3",
   "metadata": {},
   "source": [
    "## Download Test Videos"
   ]
  },
  {
   "cell_type": "markdown",
   "id": "41e4f6d2",
   "metadata": {},
   "source": [
    "Functions to download youtube video from link and clip them "
   ]
  },
  {
   "cell_type": "code",
   "execution_count": 79,
   "id": "ed829c42",
   "metadata": {},
   "outputs": [],
   "source": [
    "from pytube import YouTube \n",
    "from moviepy.editor import *\n",
    "\n",
    "def download_video(link,output_path,output_title=None):\n",
    "    yt = YouTube(link)\n",
    "    video_stream = yt.streams.first()\n",
    "    video_stream.download(output_path=output_path,filename=output_title)\n",
    "    print('Download complete for %s' % video_stream.title)\n",
    "    return video_stream.title\n",
    "\n",
    "\n",
    "def clip_video(video_pth,output_pth,time):\n",
    "    \"\"\"\n",
    "    video_pth: /path/to/input/video\n",
    "    output_pth: /path/to/output/video\n",
    "    time: list of start and end time in seconds to clip video\n",
    "    \"\"\"\n",
    "\n",
    "    start,end=time\n",
    "    clip = VideoFileClip(video_pth).subclip(start,end)\n",
    "    if output_pth is None:\n",
    "        name = video_pth.split('/')[-1].split('.')[0]\n",
    "        new_name = name + '_%d_%d'%(start,end)\n",
    "        output_pth = video_pth.replace(name,new_name)\n",
    "        \n",
    "    #import pdb; pdb.set_trace()\n",
    "    clip.write_videofile(output_pth)\n",
    "        "
   ]
  },
  {
   "cell_type": "markdown",
   "id": "1def009f",
   "metadata": {},
   "source": [
    "Specify the link and download"
   ]
  },
  {
   "cell_type": "code",
   "execution_count": 72,
   "id": "09baa936",
   "metadata": {},
   "outputs": [
    {
     "name": "stdout",
     "output_type": "stream",
     "text": [
      "Download complete for Donna Wakes Up Everyday And Chooses Being Cool | Parks and Recreation\n"
     ]
    }
   ],
   "source": [
    "download_link = 'https://www.youtube.com/watch?v=oHddkxW5IqU'\n",
    "download_link = 'https://www.youtube.com/watch?v=X4uo7uKR61M'\n",
    "fname = 'radio_star_.mp4'\n",
    "fname = 'parks_and_rec_.mp4'\n",
    "\n",
    "output_pth = os.path.join(DATA_DIR,fname)\n",
    "if not os.path.exists(output_pth):\n",
    "    download_video(download_link,DATA_DIR,fname)"
   ]
  },
  {
   "cell_type": "code",
   "execution_count": 75,
   "id": "89e294b7",
   "metadata": {},
   "outputs": [
    {
     "data": {
      "text/html": [
       "<video src=\"/home/ubuntu/visual_search_assistant/data/Donna Wakes Up Everyday And Chooses Being Cool  Parks and Recreation.mp4\" controls>\n",
       "      Your browser does not support the <code>video</code> element.\n",
       "    </video>"
      ],
      "text/plain": [
       "<IPython.core.display.Video object>"
      ]
     },
     "execution_count": 75,
     "metadata": {},
     "output_type": "execute_result"
    }
   ],
   "source": [
    "from IPython.core.display import Video\n",
    "Video('/home/ubuntu/visual_search_assistant/data/Donna Wakes Up Everyday And Chooses Being Cool  Parks and Recreation.mp4')"
   ]
  },
  {
   "cell_type": "markdown",
   "id": "c8d7f23f",
   "metadata": {},
   "source": [
    "## Library of face embeddings"
   ]
  },
  {
   "cell_type": "code",
   "execution_count": 2,
   "id": "2780f7cf",
   "metadata": {},
   "outputs": [],
   "source": [
    "import os\n",
    "import face_recognition\n",
    "\n",
    "faces = os.listdir(FACE_LIB_DIR)\n",
    "all_embeddings = []\n",
    "all_names = []\n",
    "for file in faces:\n",
    "    face = face_recognition.load_image_file(os.path.join(FACE_LIB_DIR,file))\n",
    "    all_embeddings.append(face_recognition.face_encodings(face)[0])\n",
    "    name = file.split('/')[-1].split('.')[0]\n",
    "    all_names.append(name)\n",
    "    "
   ]
  },
  {
   "cell_type": "code",
   "execution_count": 12,
   "id": "b85460eb",
   "metadata": {},
   "outputs": [],
   "source": [
    "import os\n",
    "import cv2\n",
    "import face_recognition\n",
    "import numpy as np\n",
    "\n",
    "\n",
    "def process_video(input_pth,output_pth=None,use_gpu=True,recognition=False,detection_threshold=0.7):\n",
    "    if output_pth is None:\n",
    "        output_pth = os.path.join(OUTPUT_DIR,input_pth.split('/')[-1])\n",
    "    if not use_gpu:\n",
    "        batch_size = 1\n",
    "    else:\n",
    "        batch_size = 16\n",
    "    video_capture = cv2.VideoCapture(input_pth)\n",
    "\n",
    "    frame_width = int(video_capture.get(3))\n",
    "    frame_height = int(video_capture.get(4))\n",
    "    \n",
    "    fourcc = cv2.VideoWriter_fourcc('m', 'p', '4', 'v')\n",
    "    out = cv2.VideoWriter(output_pth, fourcc, 30.0, (frame_width, frame_height))\n",
    "    \n",
    "    frame_count = 0\n",
    "    \n",
    "    frames = []\n",
    "    print('='*20,'Start Face Detection and Recognition','='*20)\n",
    "    while video_capture.isOpened():\n",
    "        ret, frame = video_capture.read()\n",
    "        \n",
    "        if not ret:\n",
    "            break\n",
    "        if frame_count % LOG_FREQ == LOG_FREQ -1:\n",
    "            print('Processed %d frames'% frame_count)\n",
    "            \n",
    "        frame_count += 1\n",
    "        \n",
    "        # skip frames\n",
    "        if frame_count % SAMPLE_FRAME_FREQ > 0:\n",
    "            continue\n",
    "            \n",
    "        frames.append(frame)\n",
    "        if len(frames) == batch_size:\n",
    "#             import pdb;pdb.set_trace()\n",
    "            batch_face_locations = face_recognition.batch_face_locations(frames)\n",
    "            for idx,face_locations in enumerate(batch_face_locations):\n",
    "                number_of_faces_in_frame = len(face_locations)\n",
    "                \n",
    "                fno = frame_count - batch_size + idx\n",
    "                frame = frames[idx]\n",
    "                \n",
    "                \n",
    "                embeddings = face_recognition.face_encodings(frame,face_locations)\n",
    "                \n",
    "                for embd,(top,right,bottom,left) in zip(embeddings,face_locations):\n",
    "                    # Draw a box around the face\n",
    "                    cv2.rectangle(frame, (left, top), (right, bottom), (0, 0, 255), 2)\n",
    "                    # Draw a label with a name below the face\n",
    "                    cv2.rectangle(frame, (left, bottom + 35), (right, bottom), (0, 0, 255), cv2.FILLED)\n",
    "                    \n",
    "                    face_dist = face_recognition.face_distance(all_embeddings,embd)\n",
    "#                     import pdb;pdb.set_trace()\n",
    "                    idx = np.argmin(face_dist)\n",
    "                    name = all_names[idx] if face_dist[idx] > detection_threshold else 'Unknown'\n",
    "                    \n",
    "                    font = cv2.FONT_HERSHEY_DUPLEX\n",
    "                    cv2.putText(frame, name, (left + 6, bottom + 6), font, 0.5, (255, 255, 255), 1)\n",
    "        \n",
    "                out.write(frame)\n",
    "            frames = []\n",
    "                \n",
    "                \n",
    "    video_capture.release()\n",
    "    out.release()\n",
    "    print('='*15,'Done Processing %s to %s' % (input_pth,output_pth),'='*15)\n",
    "        "
   ]
  },
  {
   "cell_type": "code",
   "execution_count": 13,
   "id": "1c2fd483",
   "metadata": {
    "scrolled": true
   },
   "outputs": [
    {
     "name": "stdout",
     "output_type": "stream",
     "text": [
      "==================== Start Face Detection and Recognition ====================\n",
      "Processed 49 frames\n",
      "Processed 99 frames\n",
      "Processed 149 frames\n",
      "Processed 199 frames\n",
      "Processed 249 frames\n",
      "Processed 299 frames\n",
      "=============== Done Processing /home/ubuntu/visual_search_assistant/data/radio_star_0_10.mp4 to /home/ubuntu/visual_search_assistant/M3/results/radio_star_0_10.mp4 ===============\n"
     ]
    }
   ],
   "source": [
    "test_input_video = '/home/ubuntu/visual_search_assistant/data/radio_star_10_20.mp4'\n",
    "process_video(test_input_video)"
   ]
  },
  {
   "cell_type": "code",
   "execution_count": 22,
   "id": "0360696b",
   "metadata": {},
   "outputs": [
    {
     "data": {
      "text/plain": [
       "(128,)"
      ]
     },
     "execution_count": 22,
     "metadata": {},
     "output_type": "execute_result"
    }
   ],
   "source": [
    "res[0].shape\n"
   ]
  }
 ],
 "metadata": {
  "kernelspec": {
   "display_name": "Environment (conda_vsa)",
   "language": "python",
   "name": "conda_vsa"
  },
  "language_info": {
   "codemirror_mode": {
    "name": "ipython",
    "version": 3
   },
   "file_extension": ".py",
   "mimetype": "text/x-python",
   "name": "python",
   "nbconvert_exporter": "python",
   "pygments_lexer": "ipython3",
   "version": "3.6.15"
  }
 },
 "nbformat": 4,
 "nbformat_minor": 5
}
